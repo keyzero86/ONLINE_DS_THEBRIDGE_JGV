{
 "cells": [
  {
   "cell_type": "code",
   "execution_count": 1,
   "id": "a5c3a730-f890-4edb-b5ed-3305cd1abd5d",
   "metadata": {},
   "outputs": [
    {
     "name": "stdout",
     "output_type": "stream",
     "text": [
      "Hola mundo Python\n"
     ]
    }
   ],
   "source": [
    "print(\"Hola mundo Python\")"
   ]
  },
  {
   "cell_type": "markdown",
   "id": "3b6b63d9-ea2a-49b8-a305-7660980f2a55",
   "metadata": {},
   "source": [
    "Hola mundo Python"
   ]
  },
  {
   "cell_type": "code",
   "execution_count": null,
   "id": "da32dfd0-8a7e-4135-9b8f-9a035851c2e4",
   "metadata": {},
   "outputs": [],
   "source": []
  }
 ],
 "metadata": {
  "kernelspec": {
   "display_name": "Python 3 (ipykernel)",
   "language": "python",
   "name": "python3"
  },
  "language_info": {
   "codemirror_mode": {
    "name": "ipython",
    "version": 3
   },
   "file_extension": ".py",
   "mimetype": "text/x-python",
   "name": "python",
   "nbconvert_exporter": "python",
   "pygments_lexer": "ipython3",
   "version": "3.13.2"
  }
 },
 "nbformat": 4,
 "nbformat_minor": 5
}
